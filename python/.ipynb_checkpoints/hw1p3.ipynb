{
 "cells": [
  {
   "cell_type": "code",
   "execution_count": null,
   "metadata": {},
   "outputs": [],
   "source": [
    "import matplotlib.pyplot as plt\n",
    "import numpy as np\n",
    "\n",
    "# Path to the binary file\n",
    "file_path1 = 'lena512color.jpg'  # Replace with the correct path\n",
    "# file_path2 = 'peppers.bin'  # Replace with the correct path\n",
    "\n",
    "# # Read the binary file\n",
    "# with open(file_path1, 'rb') as file:\n",
    "#     data1 = np.fromfile(file, dtype=np.uint8)\n",
    "\n",
    "\n",
    "\n",
    "# Read and reshape the Lena image\n",
    "with open(file_path1 , 'rb') as file:\n",
    "    lena_data = np.fromfile(file, dtype=np.uint8).reshape((256, 256))\n",
    "\n",
    "# Read the binary file\n",
    "# with open(file_path2, 'rb') as file:\n",
    "#     data2 = np.fromfile(file, dtype=np.uint8)\n",
    "\n",
    "# Reshape data into a 256x256 grayscale image\n",
    "image1 = data1.reshape((256, 256))\n",
    "# image2 = data2.reshape((256, 256))\n",
    "\n",
    "# Display the image\n",
    "plt.imshow(image1, cmap='gray')\n",
    "plt.title('Lena Grayscale Image')\n",
    "plt.axis('off')  # Optional: to hide the axis\n",
    "plt.show()\n",
    "\n",
    "# plt.imshow(image2, cmap='gray')\n",
    "# plt.title('Peppers Grayscale Image')\n",
    "# plt.axis('off')  # Optional: to hide the axis\n",
    "# plt.show()"
   ]
  }
 ],
 "metadata": {
  "language_info": {
   "name": "python"
  }
 },
 "nbformat": 4,
 "nbformat_minor": 2
}
